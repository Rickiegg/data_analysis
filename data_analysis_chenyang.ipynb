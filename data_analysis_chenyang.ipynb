{
 "cells": [
  {
   "cell_type": "markdown",
   "metadata": {},
   "source": [
    "### Numpy"
   ]
  },
  {
   "cell_type": "code",
   "execution_count": 95,
   "metadata": {},
   "outputs": [
    {
     "name": "stdout",
     "output_type": "stream",
     "text": [
      "[(b'ZhangFei', 32, 75, 100,   90. ) (b'GuanYu', 24, 85,  96,   88.5)\n",
      " (b'ZhaoYun', 28, 85,  92,   96.5) (b'HuangZhong', 29, 65,  85,  100. )]\n"
     ]
    }
   ],
   "source": [
    "import numpy as np\n",
    "persontype=np.dtype({\n",
    "    'names':['name', 'age', 'chinese', 'math','english'],\n",
    "    'formats':['S32','i','i','i','f']})\n",
    "peoples=np.array([(\"ZhangFei\",32,75,100, 90),(\"GuanYu\",24,85,96,88.5),\n",
    "       (\"ZhaoYun\",28,85,92,96.5),(\"HuangZhong\",29,65,85,100)],dtype=persontype)\n",
    "print(peoples)"
   ]
  },
  {
   "cell_type": "code",
   "execution_count": 64,
   "metadata": {
    "collapsed": true
   },
   "outputs": [],
   "source": [
    "grade_max=[]\n",
    "grade_min=[]\n",
    "grade_avg=[]\n",
    "grade_var=[]\n",
    "grade_std=[]\n",
    "for subject in ['chinese','math','english']:\n",
    "    grade_max.append(peoples[subject].max())\n",
    "    grade_min.append(peoples[subject].min())\n",
    "    grade_avg.append(peoples[subject].mean())\n",
    "    grade_var.append(peoples[subject].var())\n",
    "    grade_std.append(peoples[subject].std())"
   ]
  },
  {
   "cell_type": "code",
   "execution_count": 65,
   "metadata": {},
   "outputs": [
    {
     "data": {
      "text/plain": [
       "array([(b'ZhangFei', 32, 75, 100,   90. ),\n",
       "       (b'GuanYu', 24, 85,  96,   88.5), (b'ZhaoYun', 28, 85,  92,   96.5),\n",
       "       (b'HuangZhong', 29, 65,  85,  100. )],\n",
       "      dtype=[('name', 'S32'), ('age', '<i4'), ('chinese', '<i4'), ('math', '<i4'), ('english', '<f4')])"
      ]
     },
     "execution_count": 65,
     "metadata": {},
     "output_type": "execute_result"
    }
   ],
   "source": [
    "peoples"
   ]
  },
  {
   "cell_type": "code",
   "execution_count": 88,
   "metadata": {},
   "outputs": [
    {
     "name": "stdout",
     "output_type": "stream",
     "text": [
      "[[ 265. ]\n",
      " [ 269.5]\n",
      " [ 273.5]\n",
      " [ 250. ]]\n"
     ]
    }
   ],
   "source": [
    "n=len(peoples)\n",
    "score=np.zeros((n,1))\n",
    "for i in range(n):\n",
    "    for subject in ['chinese','math','english']:\n",
    "        score[i]=score[i]+peoples[i][subject]\n",
    "# print(np.sort(score,axis=0))\n",
    "print(score)"
   ]
  },
  {
   "cell_type": "code",
   "execution_count": 4,
   "metadata": {},
   "outputs": [
    {
     "data": {
      "text/plain": [
       "array([[2, 3, 4],\n",
       "       [1, 2, 4]])"
      ]
     },
     "execution_count": 4,
     "metadata": {},
     "output_type": "execute_result"
    }
   ],
   "source": [
    "import numpy as np\n",
    "a = np.array([[4,3,2],[2,4,1]])\n",
    "np.sort(a,axis=1)\n"
   ]
  },
  {
   "cell_type": "code",
   "execution_count": 94,
   "metadata": {},
   "outputs": [
    {
     "data": {
      "text/plain": [
       "array([['ZhangFei', '32', '75', '100', '90', '265.0'],\n",
       "       ['GuanYu', '24', '85', '96', '88.5', '269.5'],\n",
       "       ['ZhaoYun', '28', '85', '92', '96.5', '273.5'],\n",
       "       ['HuangZhong', '29', '65', '85', '100', '250.0']],\n",
       "      dtype='<U10')"
      ]
     },
     "execution_count": 94,
     "metadata": {},
     "output_type": "execute_result"
    }
   ],
   "source": [
    "people=np.array([[\"ZhangFei\",32,75,100, 90],[\"GuanYu\",24,85,96,88.5],\n",
    "       [\"ZhaoYun\",28,85,92,96.5],[\"HuangZhong\",29,65,85,100]])\n",
    "people_grade_added=np.insert(people,5,values=score.reshape(1,4),axis=1)"
   ]
  },
  {
   "cell_type": "markdown",
   "metadata": {},
   "source": [
    "### Pandas"
   ]
  },
  {
   "cell_type": "code",
   "execution_count": 105,
   "metadata": {},
   "outputs": [
    {
     "data": {
      "text/html": [
       "<div>\n",
       "<style>\n",
       "    .dataframe thead tr:only-child th {\n",
       "        text-align: right;\n",
       "    }\n",
       "\n",
       "    .dataframe thead th {\n",
       "        text-align: left;\n",
       "    }\n",
       "\n",
       "    .dataframe tbody tr th {\n",
       "        vertical-align: top;\n",
       "    }\n",
       "</style>\n",
       "<table border=\"1\" class=\"dataframe\">\n",
       "  <thead>\n",
       "    <tr style=\"text-align: right;\">\n",
       "      <th></th>\n",
       "      <th>English</th>\n",
       "      <th>Math</th>\n",
       "      <th>Chinese</th>\n",
       "    </tr>\n",
       "  </thead>\n",
       "  <tbody>\n",
       "    <tr>\n",
       "      <th>ZhangFei</th>\n",
       "      <td>65</td>\n",
       "      <td>30</td>\n",
       "      <td>66</td>\n",
       "    </tr>\n",
       "    <tr>\n",
       "      <th>GuanYu</th>\n",
       "      <td>85</td>\n",
       "      <td>98</td>\n",
       "      <td>95</td>\n",
       "    </tr>\n",
       "    <tr>\n",
       "      <th>ZhaoYun</th>\n",
       "      <td>92</td>\n",
       "      <td>96</td>\n",
       "      <td>93</td>\n",
       "    </tr>\n",
       "    <tr>\n",
       "      <th>HuangZhong</th>\n",
       "      <td>88</td>\n",
       "      <td>77</td>\n",
       "      <td>90</td>\n",
       "    </tr>\n",
       "    <tr>\n",
       "      <th>DianWei</th>\n",
       "      <td>90</td>\n",
       "      <td>90</td>\n",
       "      <td>80</td>\n",
       "    </tr>\n",
       "  </tbody>\n",
       "</table>\n",
       "</div>"
      ],
      "text/plain": [
       "            English  Math  Chinese\n",
       "ZhangFei         65    30       66\n",
       "GuanYu           85    98       95\n",
       "ZhaoYun          92    96       93\n",
       "HuangZhong       88    77       90\n",
       "DianWei          90    90       80"
      ]
     },
     "execution_count": 105,
     "metadata": {},
     "output_type": "execute_result"
    }
   ],
   "source": [
    "import pandas as pd\n",
    "data = {'Chinese': [66, 95, 93, 90,80],'English': [65, 85, 92, 88, 90],'Math': [30, 98, 96, 77, 90]}\n",
    "df2 = pd.DataFrame(data, index=['ZhangFei', 'GuanYu', 'ZhaoYun', 'HuangZhong', 'DianWei'], columns=['English', 'Math', 'Chinese'])\n",
    "df2"
   ]
  },
  {
   "cell_type": "code",
   "execution_count": 111,
   "metadata": {},
   "outputs": [
    {
     "data": {
      "text/html": [
       "<div>\n",
       "<style>\n",
       "    .dataframe thead tr:only-child th {\n",
       "        text-align: right;\n",
       "    }\n",
       "\n",
       "    .dataframe thead th {\n",
       "        text-align: left;\n",
       "    }\n",
       "\n",
       "    .dataframe tbody tr th {\n",
       "        vertical-align: top;\n",
       "    }\n",
       "</style>\n",
       "<table border=\"1\" class=\"dataframe\">\n",
       "  <thead>\n",
       "    <tr style=\"text-align: right;\">\n",
       "      <th></th>\n",
       "      <th>English</th>\n",
       "      <th>Math</th>\n",
       "      <th>Chinese</th>\n",
       "      <th>new1</th>\n",
       "      <th>new2</th>\n",
       "    </tr>\n",
       "  </thead>\n",
       "  <tbody>\n",
       "    <tr>\n",
       "      <th>ZhangFei</th>\n",
       "      <td>65</td>\n",
       "      <td>30</td>\n",
       "      <td>66</td>\n",
       "      <td>190</td>\n",
       "      <td>285</td>\n",
       "    </tr>\n",
       "    <tr>\n",
       "      <th>GuanYu</th>\n",
       "      <td>85</td>\n",
       "      <td>98</td>\n",
       "      <td>95</td>\n",
       "      <td>366</td>\n",
       "      <td>549</td>\n",
       "    </tr>\n",
       "    <tr>\n",
       "      <th>ZhaoYun</th>\n",
       "      <td>92</td>\n",
       "      <td>96</td>\n",
       "      <td>93</td>\n",
       "      <td>376</td>\n",
       "      <td>564</td>\n",
       "    </tr>\n",
       "    <tr>\n",
       "      <th>HuangZhong</th>\n",
       "      <td>88</td>\n",
       "      <td>77</td>\n",
       "      <td>90</td>\n",
       "      <td>330</td>\n",
       "      <td>495</td>\n",
       "    </tr>\n",
       "    <tr>\n",
       "      <th>DianWei</th>\n",
       "      <td>90</td>\n",
       "      <td>90</td>\n",
       "      <td>80</td>\n",
       "      <td>360</td>\n",
       "      <td>540</td>\n",
       "    </tr>\n",
       "  </tbody>\n",
       "</table>\n",
       "</div>"
      ],
      "text/plain": [
       "            English  Math  Chinese  new1  new2\n",
       "ZhangFei         65    30       66   190   285\n",
       "GuanYu           85    98       95   366   549\n",
       "ZhaoYun          92    96       93   376   564\n",
       "HuangZhong       88    77       90   330   495\n",
       "DianWei          90    90       80   360   540"
      ]
     },
     "execution_count": 111,
     "metadata": {},
     "output_type": "execute_result"
    }
   ],
   "source": [
    "def plus(data,m,n):\n",
    "    data['new1']=(data['Math']+data['English'])*m\n",
    "    data['new2']=(data['Math']+data['English'])*n\n",
    "    return data\n",
    "df2.apply(plus,axis=1,args=(2,3))\n"
   ]
  },
  {
   "cell_type": "markdown",
   "metadata": {},
   "source": [
    "### pandasql"
   ]
  },
  {
   "cell_type": "code",
   "execution_count": 118,
   "metadata": {},
   "outputs": [
    {
     "name": "stdout",
     "output_type": "stream",
     "text": [
      "   data1  names\n",
      "0      0  zhang\n",
      "1      1    liu\n",
      "2      2      a\n",
      "3      3      b\n",
      "4      4      c\n"
     ]
    }
   ],
   "source": [
    "from pandasql import sqldf\n",
    "df1=pd.DataFrame({'names':['zhang','liu','a','b','c'],'data1':range(5)})\n",
    "pysql=lambda sql:sqldf(sql,globals())\n",
    "sql='select * from df1'\n",
    "print(pysql(sql))\n",
    "# sqldf(sql)"
   ]
  },
  {
   "cell_type": "code",
   "execution_count": 128,
   "metadata": {},
   "outputs": [
    {
     "data": {
      "text/html": [
       "<div>\n",
       "<style>\n",
       "    .dataframe thead tr:only-child th {\n",
       "        text-align: right;\n",
       "    }\n",
       "\n",
       "    .dataframe thead th {\n",
       "        text-align: left;\n",
       "    }\n",
       "\n",
       "    .dataframe tbody tr th {\n",
       "        vertical-align: top;\n",
       "    }\n",
       "</style>\n",
       "<table border=\"1\" class=\"dataframe\">\n",
       "  <thead>\n",
       "    <tr style=\"text-align: right;\">\n",
       "      <th></th>\n",
       "      <th>English</th>\n",
       "      <th>Math</th>\n",
       "      <th>Chinese</th>\n",
       "      <th>sum</th>\n",
       "    </tr>\n",
       "  </thead>\n",
       "  <tbody>\n",
       "    <tr>\n",
       "      <th>ZhangFei</th>\n",
       "      <td>65</td>\n",
       "      <td>30</td>\n",
       "      <td>66</td>\n",
       "      <td>161</td>\n",
       "    </tr>\n",
       "    <tr>\n",
       "      <th>GuanYu</th>\n",
       "      <td>85</td>\n",
       "      <td>98</td>\n",
       "      <td>95</td>\n",
       "      <td>278</td>\n",
       "    </tr>\n",
       "    <tr>\n",
       "      <th>ZhaoYun</th>\n",
       "      <td>92</td>\n",
       "      <td>96</td>\n",
       "      <td>93</td>\n",
       "      <td>281</td>\n",
       "    </tr>\n",
       "    <tr>\n",
       "      <th>HuangZhong</th>\n",
       "      <td>88</td>\n",
       "      <td>77</td>\n",
       "      <td>90</td>\n",
       "      <td>255</td>\n",
       "    </tr>\n",
       "    <tr>\n",
       "      <th>DianWei</th>\n",
       "      <td>90</td>\n",
       "      <td>90</td>\n",
       "      <td>80</td>\n",
       "      <td>260</td>\n",
       "    </tr>\n",
       "  </tbody>\n",
       "</table>\n",
       "</div>"
      ],
      "text/plain": [
       "            English  Math  Chinese  sum\n",
       "ZhangFei         65    30       66  161\n",
       "GuanYu           85    98       95  278\n",
       "ZhaoYun          92    96       93  281\n",
       "HuangZhong       88    77       90  255\n",
       "DianWei          90    90       80  260"
      ]
     },
     "execution_count": 128,
     "metadata": {},
     "output_type": "execute_result"
    }
   ],
   "source": [
    "def grade_sum(df):\n",
    "    df['sum']=df['Chinese']+df['English']+df['Math']\n",
    "    return df\n",
    "df2.apply(grade_sum,axis=1)"
   ]
  },
  {
   "cell_type": "markdown",
   "metadata": {},
   "source": [
    "## python爬虫"
   ]
  },
  {
   "cell_type": "markdown",
   "metadata": {},
   "source": [
    "### json格式"
   ]
  },
  {
   "cell_type": "code",
   "execution_count": 6,
   "metadata": {
    "collapsed": true
   },
   "outputs": [],
   "source": [
    "import requests\n",
    "r = requests.get('http://www.douban.com')\n",
    "# r.text\n",
    "# r.content"
   ]
  },
  {
   "cell_type": "code",
   "execution_count": 21,
   "metadata": {},
   "outputs": [
    {
     "data": {
      "text/plain": [
       "[]"
      ]
     },
     "execution_count": 21,
     "metadata": {},
     "output_type": "execute_result"
    }
   ],
   "source": [
    "#定位到 HTML 中的所有列表项目\n",
    "\n",
    "html=\"http://pyecharts.org/#/zh-cn/charts_base\"\n",
    "from lxml import etree\n",
    "html = etree.HTML(html)\n",
    "result = html.xpath('//li')\n",
    "result"
   ]
  },
  {
   "cell_type": "code",
   "execution_count": 9,
   "metadata": {},
   "outputs": [
    {
     "name": "stdout",
     "output_type": "stream",
     "text": [
      "{'a': 1, 'b': 2, 'c': 3, 'd': 4, 'e': 5}\n"
     ]
    }
   ],
   "source": [
    "import json\n",
    "jsonData = '{\"a\":1,\"b\":2,\"c\":3,\"d\":4,\"e\":5}'\n",
    "input = json.loads(jsonData)\n",
    "# type(input)\n",
    "print(input)"
   ]
  },
  {
   "cell_type": "code",
   "execution_count": 24,
   "metadata": {},
   "outputs": [
    {
     "data": {
      "text/plain": [
       "'{\"a\":1,\"b\":2,\"c\":3,\"d\":4,\"e\":5}'"
      ]
     },
     "execution_count": 24,
     "metadata": {},
     "output_type": "execute_result"
    }
   ],
   "source": [
    "jsonData"
   ]
  },
  {
   "cell_type": "code",
   "execution_count": 28,
   "metadata": {},
   "outputs": [
    {
     "data": {
      "text/html": [
       "<div>\n",
       "<style>\n",
       "    .dataframe thead tr:only-child th {\n",
       "        text-align: right;\n",
       "    }\n",
       "\n",
       "    .dataframe thead th {\n",
       "        text-align: left;\n",
       "    }\n",
       "\n",
       "    .dataframe tbody tr th {\n",
       "        vertical-align: top;\n",
       "    }\n",
       "</style>\n",
       "<table border=\"1\" class=\"dataframe\">\n",
       "  <thead>\n",
       "    <tr style=\"text-align: right;\">\n",
       "      <th></th>\n",
       "      <th>a</th>\n",
       "      <th>b</th>\n",
       "      <th>c</th>\n",
       "      <th>d</th>\n",
       "      <th>e</th>\n",
       "    </tr>\n",
       "  </thead>\n",
       "  <tbody>\n",
       "    <tr>\n",
       "      <th>a</th>\n",
       "      <td>1</td>\n",
       "      <td>2</td>\n",
       "      <td>3</td>\n",
       "      <td>4</td>\n",
       "      <td>5</td>\n",
       "    </tr>\n",
       "  </tbody>\n",
       "</table>\n",
       "</div>"
      ],
      "text/plain": [
       "   a  b  c  d  e\n",
       "a  1  2  3  4  5"
      ]
     },
     "execution_count": 28,
     "metadata": {},
     "output_type": "execute_result"
    }
   ],
   "source": [
    "import pandas as pd\n",
    "from pandas import DataFrame\n",
    "pd.DataFrame(input,index=['a'])"
   ]
  },
  {
   "cell_type": "code",
   "execution_count": 15,
   "metadata": {
    "collapsed": true
   },
   "outputs": [],
   "source": [
    "# coding:utf-8\n",
    "query = '王凯'\n",
    "'''下载图片'''\n",
    "def download(src,id):\n",
    "    dir='./Desktop/images/'+str(id)+'.jpg'\n",
    "    try:\n",
    "        pic=requests.get(src,timeout=1000)\n",
    "    except requests.exceptions.ConnectionError:\n",
    "        print('无法下载')\n",
    "    fp=open(dir,'wb')\n",
    "    fp.write(pic.content)\n",
    "    fp.close"
   ]
  },
  {
   "cell_type": "code",
   "execution_count": 40,
   "metadata": {
    "collapsed": true
   },
   "outputs": [],
   "source": [
    "'''循环'''\n",
    "for i in range(0,20,20):\n",
    "    url='https://www.douban.com/j/search_photo?q='+query+'&limit=20&start='+str(i)\n",
    "    html=requests.get(url).text\n",
    "    response=json.loads(html,encoding='utf-8')\n",
    "    for image in response['images']:\n",
    "        download(image['src'],image['id'])"
   ]
  },
  {
   "cell_type": "markdown",
   "metadata": {},
   "source": [
    "### Xpath"
   ]
  },
  {
   "cell_type": "code",
   "execution_count": 8,
   "metadata": {
    "collapsed": true
   },
   "outputs": [],
   "source": [
    "src_path=\"//div[@class='item-root']/a[@class='cover-link']/img[@class='cover']/@src\"\n",
    "title_path=\"//div[@class='item-root']/div[@class='detail']/div[@class='title']/a[@class='title-text']\""
   ]
  },
  {
   "cell_type": "code",
   "execution_count": 10,
   "metadata": {},
   "outputs": [],
   "source": [
    "'''循环'''\n",
    "from selenium import webdriver\n",
    "from lxml import etree\n",
    "\n",
    "query = '曹保平'\n",
    "for i in range(0,30,15):\n",
    "    url=\"https://movie.douban.com/subject_search?search_text=\"+query+\"&cat=1002&start=\"+str(i)\n",
    "    driver = webdriver.Chrome()\n",
    "# executable_path='/Users/rickie/Downloads/chromedriver'\n",
    "    driver.get(url)\n",
    "    html = etree.HTML(driver.page_source)\n",
    "    \n",
    "srcs = html.xpath(src_path)\n",
    "titles = html.xpath(title_path)\n",
    "for src, title in zip(srcs, titles):\n",
    "    download(src, title.text)\n"
   ]
  },
  {
   "cell_type": "code",
   "execution_count": 19,
   "metadata": {},
   "outputs": [
    {
     "name": "stdout",
     "output_type": "stream",
     "text": [
      "https://img3.doubanio.com/view/celebrity/s_ratio_celebrity/public/p1513235776.32.webp:曹保平 Baoping Cao\n",
      "https://img3.doubanio.com/view/photo/s_ratio_poster/public/p2540513831.webp:狗十三‎ (2013)\n",
      "https://img1.doubanio.com/view/photo/s_ratio_poster/public/p2262236348.webp:烈日灼心‎ (2015)\n",
      "https://img1.doubanio.com/view/photo/s_ratio_poster/public/p499462449.webp:李米的猜想‎ (2008)\n",
      "https://img3.doubanio.com/view/photo/s_ratio_poster/public/p2375882763.webp:追凶者也‎ (2016)\n",
      "https://img1.doubanio.com/view/photo/s_ratio_poster/public/p630606567.webp:光荣的愤怒‎ (2006)\n",
      "https://img3.doubanio.com/view/photo/s_ratio_poster/public/p2508925583.webp:她杀‎ (2019)\n",
      "https://img1.doubanio.com/view/photo/s_ratio_poster/public/p2271705807.webp:延安爱情‎ (2010)\n",
      "https://img1.doubanio.com/view/photo/s_ratio_poster/public/p1472148439.webp:浪漫向左，婚姻往右‎ (2011)\n",
      "https://img1.doubanio.com/view/photo/s_ratio_poster/public/p2177358699.webp:治不好了‎ (2014)\n",
      "https://img3.doubanio.com/f/movie/30c6263b6db26d055cbbe73fe653e29014142ea3/pics/movie/movie_default_large.png:秦末无刀‎ (2019)\n",
      "https://img1.doubanio.com/view/photo/s_ratio_poster/public/p2454624318.webp:左伟和杜叶的婚姻生活‎ (2007)\n",
      "https://img3.doubanio.com/view/subject/l/public/s3721174.jpg:十月怀胎‎ (2005)\n",
      "https://img3.doubanio.com/view/photo/s_ratio_poster/public/p2171450761.webp:错放你的手‎ (2014)\n",
      "https://img3.doubanio.com/f/movie/30c6263b6db26d055cbbe73fe653e29014142ea3/pics/movie/movie_default_large.png:围猎‎ (2019)\n",
      "https://img3.doubanio.com/view/photo/s_ratio_poster/public/p2454795534.webp:堆积情感‎ (2000)\n"
     ]
    }
   ],
   "source": [
    "query = '曹保平'\n",
    "\n",
    "url=\"https://movie.douban.com/subject_search?search_text=\"+query+\"&cat=1002&start=\"+str(0)\n",
    "driver = webdriver.Chrome()\n",
    "# executable_path='/Users/rickie/Downloads/chromedriver'\n",
    "driver.get(url)\n",
    "html = etree.HTML(driver.page_source)\n",
    "\n",
    "srcs = html.xpath(src_path)\n",
    "titles = html.xpath(title_path)\n",
    "for src, title in zip(srcs, titles):\n",
    "    download(src, title.text)"
   ]
  },
  {
   "cell_type": "code",
   "execution_count": 20,
   "metadata": {
    "collapsed": true
   },
   "outputs": [],
   "source": [
    "def download(src,id):\n",
    "    dir='./Desktop/images/'+str(id)+'.jpg'\n",
    "    try:\n",
    "        pic=requests.get(src,timeout=1000)\n",
    "    except requests.exceptions.ConnectionError:\n",
    "        print('无法下载')\n",
    "    fp=open(dir,'wb')\n",
    "    fp.write(pic.content)\n",
    "    fp.close"
   ]
  },
  {
   "cell_type": "markdown",
   "metadata": {},
   "source": [
    "# 数据清洗"
   ]
  },
  {
   "cell_type": "code",
   "execution_count": null,
   "metadata": {
    "collapsed": true
   },
   "outputs": [],
   "source": [
    "# 获取 weight 数据列中单位为 lbs 的数据\n",
    "rows_with_lbs = df['weight'].str.contains('lbs').fillna(False)##得到index\n",
    "df[rows_with_lbs]\n",
    "# 将 lbs 的数据转换为 kgs 数据\n",
    "for i,lbs_row in df[rows_with_lbs].iterrows():\n",
    "    weight = int(float(lbs_row['weight'][:-3])/2.2)\n",
    "    df.at[i,'weight'] = '{}kgs'.format(weight) "
   ]
  },
  {
   "cell_type": "code",
   "execution_count": 2,
   "metadata": {},
   "outputs": [
    {
     "data": {
      "text/plain": [
       "'I love python'"
      ]
     },
     "execution_count": 2,
     "metadata": {},
     "output_type": "execute_result"
    }
   ],
   "source": [
    "\"i love python\".title()#每个单词首字母大写\n",
    "\"i love python\".capitalize()#首字母大写"
   ]
  },
  {
   "cell_type": "markdown",
   "metadata": {
    "collapsed": true
   },
   "source": [
    "# 数据规范化"
   ]
  },
  {
   "cell_type": "code",
   "execution_count": 20,
   "metadata": {},
   "outputs": [
    {
     "name": "stderr",
     "output_type": "stream",
     "text": [
      "/Users/rickie/anaconda3/lib/python3.6/site-packages/sklearn/utils/validation.py:475: DataConversionWarning: Data with input dtype int64 was converted to float64 by MinMaxScaler.\n",
      "  warnings.warn(msg, DataConversionWarning)\n"
     ]
    },
    {
     "data": {
      "text/plain": [
       "array([[ 0.5       ,  1.        ,  0.5       ],\n",
       "       [ 1.        ,  0.66666667,  0.        ],\n",
       "       [ 0.        ,  0.        ,  1.        ]])"
      ]
     },
     "execution_count": 20,
     "metadata": {},
     "output_type": "execute_result"
    }
   ],
   "source": [
    "from sklearn import preprocessing\n",
    "import numpy as np\n",
    "X=np.array([[2,5,4],\n",
    "           [3,4,1],\n",
    "           [1,2,7]])\n",
    "# 每一列是一个特征，根据每一列进行MinMax缩放\n",
    "min_max_scalar=preprocessing.MinMaxScaler()\n",
    "X_minmax=min_max_scalar.fit_transform(X)\n",
    "X_minmax"
   ]
  },
  {
   "cell_type": "code",
   "execution_count": 22,
   "metadata": {},
   "outputs": [
    {
     "name": "stderr",
     "output_type": "stream",
     "text": [
      "/Users/rickie/anaconda3/lib/python3.6/site-packages/sklearn/utils/validation.py:475: DataConversionWarning: Data with input dtype int64 was converted to float64 by the scale function.\n",
      "  warnings.warn(msg, DataConversionWarning)\n"
     ]
    },
    {
     "data": {
      "text/plain": [
       "array([[ 0.        ,  1.06904497,  0.        ],\n",
       "       [ 1.22474487,  0.26726124, -1.22474487],\n",
       "       [-1.22474487, -1.33630621,  1.22474487]])"
      ]
     },
     "execution_count": 22,
     "metadata": {},
     "output_type": "execute_result"
    }
   ],
   "source": [
    "X_scale=preprocessing.scale(X)\n",
    "#每行每列的值减去了平均值，再除以方差\n",
    "\n",
    "X_scale"
   ]
  },
  {
   "cell_type": "code",
   "execution_count": 34,
   "metadata": {},
   "outputs": [
    {
     "data": {
      "text/plain": [
       "array([[ 0.2,  0.5,  0.4],\n",
       "       [ 0.3,  0.4,  0.1],\n",
       "       [ 0.1,  0.2,  0.7]])"
      ]
     },
     "execution_count": 34,
     "metadata": {},
     "output_type": "execute_result"
    }
   ],
   "source": [
    "#小数定标规范化\n",
    "j=np.ceil(np.log10(np.max(abs(X))))\n",
    "X_scaled2=X/(10**j)\n",
    "X_scaled2"
   ]
  },
  {
   "cell_type": "code",
   "execution_count": 36,
   "metadata": {},
   "outputs": [
    {
     "data": {
      "text/plain": [
       "array([[ 0.        ],\n",
       "       [ 0.20754717],\n",
       "       [ 1.        ]])"
      ]
     },
     "execution_count": 36,
     "metadata": {},
     "output_type": "execute_result"
    }
   ],
   "source": [
    "income=np.array([[5000.],[16000.],[58000.]])\n",
    "min_max_scaler=preprocessing.MinMaxScaler()\n",
    "income_minmax=min_max_scaler.fit_transform(income)\n",
    "income_minmax\n"
   ]
  },
  {
   "cell_type": "markdown",
   "metadata": {},
   "source": [
    "# 可视化"
   ]
  },
  {
   "cell_type": "code",
   "execution_count": 2,
   "metadata": {
    "collapsed": true
   },
   "outputs": [],
   "source": [
    "from matplotlib.font_manager import _rebuild\n",
    "_rebuild()\n",
    "#防止中文乱码问题\n",
    "# mpl.rcParams['font.sans-serif']=[u'SimHei']\n",
    "# mpl.rcParams['axes.unicode_minus']=False"
   ]
  },
  {
   "cell_type": "markdown",
   "metadata": {},
   "source": [
    "### 雷达图"
   ]
  },
  {
   "cell_type": "code",
   "execution_count": 6,
   "metadata": {
    "scrolled": true
   },
   "outputs": [
    {
     "data": {
      "image/png": "[encoded data removed]",
      "text/plain": [
       "<matplotlib.figure.Figure at 0x10eb3c128>"
      ]
     },
     "metadata": {},
     "output_type": "display_data"
    }
   ],
   "source": [
    "import numpy as np\n",
    "import matplotlib.pyplot as plt\n",
    "attr=['调研','艺术','社会','企业','常规','实际']\n",
    "data=[1,5,4,2,6,3]\n",
    "angle=np.linspace(0,2*np.pi,6,endpoint=False)\n",
    "\n",
    "data=np.concatenate([data,[data[0]]])\n",
    "angles=np.concatenate([angle,[angle[0]]])\n",
    "\n",
    "fig=plt.figure()\n",
    "ax=fig.add_subplot(111,polar=True)\n",
    "ax.plot(angles,data,'bo-',linewidth=1)\n",
    "ax.fill(angles,data,facecolor='y',alpha=0.5)\n",
    "ax.set_thetagrids(angles*180/np.pi,attr,fontproperties='Microsoft Yahei')\n",
    "ax.grid(True)\n",
    "ax.set_title(\"matplotlib雷达图\",va='bottom')     \n",
    "plt.show()"
   ]
  },
  {
   "cell_type": "code",
   "execution_count": 8,
   "metadata": {},
   "outputs": [
    {
     "name": "stderr",
     "output_type": "stream",
     "text": [
      "ERROR:lml.utils:failed to import pyecharts_snapshot\n",
      "Traceback (most recent call last):\n",
      "  File \"/Users/rickie/anaconda3/lib/python3.6/site-packages/lml/utils.py\", line 43, in do_import\n",
      "    plugin_module = __import__(plugin_module_name)\n",
      "ModuleNotFoundError: No module named 'pyecharts_snapshot'\n"
     ]
    }
   ],
   "source": [
    "from pyecharts import online\n",
    "\n",
    "online() # needed for online viewing"
   ]
  },
  {
   "cell_type": "code",
   "execution_count": 9,
   "metadata": {},
   "outputs": [
    {
     "data": {
      "text/html": [
       "<script>\n",
       "    require.config({\n",
       "        paths: {\n",
       "            'echarts': 'https://pyecharts.github.io/jupyter-echarts/echarts/echarts.min'\n",
       "        }\n",
       "    });\n",
       "</script>\n",
       "    <div id=\"e3406e75b73e4456a4dda675d24ac800\" style=\"width:800px;height:400px;\"></div>\n",
       "\n",
       "\n",
       "<script>\n",
       "    require(['echarts'], function(echarts) {\n",
       "        \n",
       "var myChart_e3406e75b73e4456a4dda675d24ac800 = echarts.init(document.getElementById('e3406e75b73e4456a4dda675d24ac800'), 'light', {renderer: 'canvas'});\n",
       "\n",
       "var option_e3406e75b73e4456a4dda675d24ac800 = {\n",
       "    \"title\": [\n",
       "        {\n",
       "            \"left\": \"auto\",\n",
       "            \"top\": \"auto\",\n",
       "            \"textStyle\": {\n",
       "                \"fontSize\": 18\n",
       "            },\n",
       "            \"subtextStyle\": {\n",
       "                \"fontSize\": 12\n",
       "            }\n",
       "        }\n",
       "    ],\n",
       "    \"toolbox\": {\n",
       "        \"show\": true,\n",
       "        \"orient\": \"vertical\",\n",
       "        \"left\": \"95%\",\n",
       "        \"top\": \"center\",\n",
       "        \"feature\": {\n",
       "            \"saveAsImage\": {\n",
       "                \"show\": true,\n",
       "                \"title\": \"save as image\"\n",
       "            },\n",
       "            \"restore\": {\n",
       "                \"show\": true,\n",
       "                \"title\": \"restore\"\n",
       "            },\n",
       "            \"dataView\": {\n",
       "                \"show\": true,\n",
       "                \"title\": \"data view\"\n",
       "            }\n",
       "        }\n",
       "    },\n",
       "    \"series_id\": 1672080,\n",
       "    \"tooltip\": {\n",
       "        \"trigger\": \"item\",\n",
       "        \"triggerOn\": \"mousemove|click\",\n",
       "        \"axisPointer\": {\n",
       "            \"type\": \"line\"\n",
       "        },\n",
       "        \"textStyle\": {\n",
       "            \"fontSize\": 14\n",
       "        },\n",
       "        \"backgroundColor\": \"rgba(50,50,50,0.7)\",\n",
       "        \"borderColor\": \"#333\",\n",
       "        \"borderWidth\": 0\n",
       "    },\n",
       "    \"series\": [\n",
       "        {\n",
       "            \"type\": \"radar\",\n",
       "            \"name\": \"\\u9884\\u7b97\\u5206\\u914d\",\n",
       "            \"data\": [\n",
       "                [\n",
       "                    4300,\n",
       "                    10000,\n",
       "                    28000,\n",
       "                    35000,\n",
       "                    50000,\n",
       "                    19000\n",
       "                ]\n",
       "            ],\n",
       "            \"symbol\": \"circle\",\n",
       "            \"label\": {\n",
       "                \"normal\": {\n",
       "                    \"show\": false,\n",
       "                    \"position\": \"top\",\n",
       "                    \"textStyle\": {\n",
       "                        \"fontSize\": 12\n",
       "                    }\n",
       "                },\n",
       "                \"emphasis\": {\n",
       "                    \"show\": true,\n",
       "                    \"textStyle\": {\n",
       "                        \"fontSize\": 12\n",
       "                    }\n",
       "                }\n",
       "            },\n",
       "            \"itemStyle\": {\n",
       "                \"normal\": {}\n",
       "            },\n",
       "            \"lineStyle\": {\n",
       "                \"normal\": {\n",
       "                    \"width\": 1,\n",
       "                    \"opacity\": 1,\n",
       "                    \"curveness\": 0,\n",
       "                    \"type\": \"solid\"\n",
       "                }\n",
       "            },\n",
       "            \"areaStyle\": {\n",
       "                \"opacity\": 0\n",
       "            }\n",
       "        },\n",
       "        {\n",
       "            \"type\": \"radar\",\n",
       "            \"name\": \"\\u5b9e\\u9645\\u5f00\\u9500\",\n",
       "            \"data\": [\n",
       "                [\n",
       "                    5000,\n",
       "                    14000,\n",
       "                    28000,\n",
       "                    31000,\n",
       "                    42000,\n",
       "                    21000\n",
       "                ]\n",
       "            ],\n",
       "            \"symbol\": \"circle\",\n",
       "            \"label\": {\n",
       "                \"normal\": {\n",
       "                    \"show\": false,\n",
       "                    \"position\": \"top\",\n",
       "                    \"textStyle\": {\n",
       "                        \"fontSize\": 12\n",
       "                    }\n",
       "                },\n",
       "                \"emphasis\": {\n",
       "                    \"show\": true,\n",
       "                    \"textStyle\": {\n",
       "                        \"fontSize\": 12\n",
       "                    }\n",
       "                }\n",
       "            },\n",
       "            \"itemStyle\": {\n",
       "                \"normal\": {\n",
       "                    \"color\": \"#b3e4a1\"\n",
       "                }\n",
       "            },\n",
       "            \"lineStyle\": {\n",
       "                \"normal\": {\n",
       "                    \"width\": 1,\n",
       "                    \"opacity\": 1,\n",
       "                    \"curveness\": 0,\n",
       "                    \"type\": \"solid\"\n",
       "                }\n",
       "            },\n",
       "            \"areaStyle\": {\n",
       "                \"opacity\": 0\n",
       "            }\n",
       "        }\n",
       "    ],\n",
       "    \"legend\": [\n",
       "        {\n",
       "            \"data\": [\n",
       "                \"\\u9884\\u7b97\\u5206\\u914d\",\n",
       "                \"\\u5b9e\\u9645\\u5f00\\u9500\"\n",
       "            ],\n",
       "            \"selectedMode\": \"multiple\",\n",
       "            \"show\": true,\n",
       "            \"left\": \"center\",\n",
       "            \"top\": \"top\",\n",
       "            \"orient\": \"horizontal\",\n",
       "            \"textStyle\": {\n",
       "                \"fontSize\": 12\n",
       "            }\n",
       "        }\n",
       "    ],\n",
       "    \"animation\": true,\n",
       "    \"radar\": {\n",
       "        \"indicator\": [\n",
       "            {\n",
       "                \"name\": \"\\u9500\\u552e\",\n",
       "                \"max\": 6500\n",
       "            },\n",
       "            {\n",
       "                \"name\": \"\\u7ba1\\u7406\",\n",
       "                \"max\": 16000\n",
       "            },\n",
       "            {\n",
       "                \"name\": \"\\u4fe1\\u606f\\u6280\\u672f\",\n",
       "                \"max\": 30000\n",
       "            },\n",
       "            {\n",
       "                \"name\": \"\\u5ba2\\u670d\",\n",
       "                \"max\": 38000\n",
       "            },\n",
       "            {\n",
       "                \"name\": \"\\u7814\\u53d1\",\n",
       "                \"max\": 52000\n",
       "            },\n",
       "            {\n",
       "                \"name\": \"\\u5e02\\u573a\",\n",
       "                \"max\": 25000\n",
       "            }\n",
       "        ],\n",
       "        \"name\": {\n",
       "            \"textStyle\": {\n",
       "                \"color\": \"#333\",\n",
       "                \"fontSize\": 12\n",
       "            }\n",
       "        },\n",
       "        \"splitLine\": {\n",
       "            \"show\": true,\n",
       "            \"lineStyle\": {\n",
       "                \"normal\": {\n",
       "                    \"width\": 1,\n",
       "                    \"opacity\": 1,\n",
       "                    \"curveness\": 0,\n",
       "                    \"type\": \"solid\"\n",
       "                }\n",
       "            }\n",
       "        },\n",
       "        \"splitArea\": {\n",
       "            \"show\": true,\n",
       "            \"areaStyle\": {\n",
       "                \"opacity\": 1\n",
       "            }\n",
       "        },\n",
       "        \"axisLine\": {\n",
       "            \"show\": true,\n",
       "            \"lineStyle\": {\n",
       "                \"normal\": {\n",
       "                    \"width\": 1,\n",
       "                    \"opacity\": 1,\n",
       "                    \"curveness\": 0,\n",
       "                    \"type\": \"solid\"\n",
       "                }\n",
       "            }\n",
       "        }\n",
       "    },\n",
       "    \"color\": [\n",
       "        \"#4e79a7\",\n",
       "        \"#c23531\",\n",
       "        \"#2f4554\",\n",
       "        \"#61a0a8\",\n",
       "        \"#d48265\",\n",
       "        \"#749f83\",\n",
       "        \"#ca8622\",\n",
       "        \"#bda29a\",\n",
       "        \"#6e7074\",\n",
       "        \"#546570\",\n",
       "        \"#c4ccd3\",\n",
       "        \"#f05b72\",\n",
       "        \"#ef5b9c\",\n",
       "        \"#f47920\",\n",
       "        \"#905a3d\",\n",
       "        \"#fab27b\",\n",
       "        \"#2a5caa\",\n",
       "        \"#444693\",\n",
       "        \"#726930\",\n",
       "        \"#b2d235\",\n",
       "        \"#6d8346\",\n",
       "        \"#ac6767\",\n",
       "        \"#1d953f\",\n",
       "        \"#6950a1\",\n",
       "        \"#918597\",\n",
       "        \"#f6f5ec\"\n",
       "    ]\n",
       "};\n",
       "myChart_e3406e75b73e4456a4dda675d24ac800.setOption(option_e3406e75b73e4456a4dda675d24ac800);\n",
       "\n",
       "    });\n",
       "</script>\n"
      ],
      "text/plain": [
       "<pyecharts.charts.radar.Radar at 0x10ea76c18>"
      ]
     },
     "execution_count": 9,
     "metadata": {},
     "output_type": "execute_result"
    }
   ],
   "source": [
    "from pyecharts import Radar\n",
    "schema =[ (\"销售\", 6500), (\"管理\", 16000), (\"信息技术\", 30000), (\"客服\", 38000), (\"研发\", 52000), (\"市场\", 25000)]\n",
    "v1 =[[4300, 10000, 28000, 35000, 50000, 19000]]\n",
    "v2 =[[5000, 14000, 28000, 31000, 42000, 21000]]\n",
    "radar =Radar()\n",
    "radar.config(schema)\n",
    "radar.add(\"预算分配\", v1,is_splitline=True, is_axisline_show=True,label_color=[\"#4e79a7\"])\n",
    "radar.add(\"实际开销\", v2,is_area_show=False,item_color=\"#b3e4a1\")"
   ]
  },
  {
   "cell_type": "code",
   "execution_count": 15,
   "metadata": {
    "collapsed": true
   },
   "outputs": [],
   "source": [
    "from pyecharts import online\n",
    "\n",
    "online() # needed for online viewing"
   ]
  },
  {
   "cell_type": "code",
   "execution_count": 25,
   "metadata": {
    "collapsed": true
   },
   "outputs": [],
   "source": [
    "from pyecharts import Pie\n",
    "\n",
    "pie = Pie(    \n",
    "    '数据化分析目前对主要技术的关注度', \n",
    "    title_pos='center',\n",
    ")\n",
    "# 定义名称、属性和值\n",
    "da = {\n",
    "    'name': '',\n",
    "    'attr': ['数据分析', ''],    \n",
    "    'value': [90, 10],    \n",
    "    'redius': [30, 22],    \n",
    "    'center': [30, 30],    \n",
    "    'rosetype': None,    \n",
    "    'label_pos': 'center',    \n",
    "    'is_label_show': True,    \n",
    "    'label_text_color': None,    \n",
    "    'legend_top': 'bottom'\n",
    "} \n",
    "\n",
    "dm = {\n",
    "    'name': '',\n",
    "    'attr': ['数据挖掘', ''],\n",
    "    'value': [30, 70],\n",
    "    'redius': [30, 22],\n",
    "    'center': [50, 30],\n",
    "    'rosetype': None,\n",
    "    'label_pos': 'center',\n",
    "    'is_label_show': True,\n",
    "    'label_text_color': None,\n",
    "    'legend_top': 'bottom'\n",
    "}\n",
    "excel = {\n",
    "    'name': '',\n",
    "    'attr': ['Excel', ''],\n",
    "    'value': [70, 30],\n",
    "    'redius': [30, 22],\n",
    "    'center': [70, 30],\n",
    "    'rosetype': None,\n",
    "    'label_pos': 'center',\n",
    "    'is_label_show': True,\n",
    "    'label_text_color': None,\n",
    "    'legend_top': 'bottom'\n",
    "}\n",
    "\n",
    "technologies=[da,dm,excel]\n",
    "\n",
    "for technology in technologies:\n",
    "    pie.add(technology['name'],\n",
    "            technology['attr'],\n",
    "            technology['value'],\n",
    "            technology['redius'],\n",
    "            technology['center'],\n",
    "            technology['rosetype'],\n",
    "            label_pos=technology['label_pos'],\n",
    "            is_label_show=technology['is_label_show'],\n",
    "            label_text_color=technology['label_text_color'],\n",
    "            legend_top='center'\n",
    "           )\n",
    "pie.render('/Users/rickie/Desktop/pies.html')"
   ]
  },
  {
   "cell_type": "code",
   "execution_count": 13,
   "metadata": {},
   "outputs": [
    {
     "data": {
      "image/png": "[encoded data removed]",
      "text/plain": [
       "<matplotlib.figure.Figure at 0x1a1568ed68>"
      ]
     },
     "metadata": {},
     "output_type": "display_data"
    }
   ],
   "source": [
    "N=1000\n",
    "import pandas as pd\n",
    "x=np.random.randn(N)\n",
    "y=np.random.randn(N)\n",
    "\n",
    "df=pd.DataFrame({'x':x,'y':y})\n",
    "\n",
    "import seaborn as sns\n",
    "sns.jointplot(x='x',y='y',data=df,kind='scatter')\n",
    "plt.show()"
   ]
  },
  {
   "cell_type": "code",
   "execution_count": 39,
   "metadata": {},
   "outputs": [
    {
     "data": {
      "text/html": [
       "<div>\n",
       "<style>\n",
       "    .dataframe thead tr:only-child th {\n",
       "        text-align: right;\n",
       "    }\n",
       "\n",
       "    .dataframe thead th {\n",
       "        text-align: left;\n",
       "    }\n",
       "\n",
       "    .dataframe tbody tr th {\n",
       "        vertical-align: top;\n",
       "    }\n",
       "</style>\n",
       "<table border=\"1\" class=\"dataframe\">\n",
       "  <thead>\n",
       "    <tr style=\"text-align: right;\">\n",
       "      <th></th>\n",
       "      <th>year</th>\n",
       "      <th>month</th>\n",
       "      <th>passengers</th>\n",
       "    </tr>\n",
       "  </thead>\n",
       "  <tbody>\n",
       "    <tr>\n",
       "      <th>0</th>\n",
       "      <td>1949</td>\n",
       "      <td>January</td>\n",
       "      <td>112</td>\n",
       "    </tr>\n",
       "    <tr>\n",
       "      <th>1</th>\n",
       "      <td>1949</td>\n",
       "      <td>February</td>\n",
       "      <td>118</td>\n",
       "    </tr>\n",
       "    <tr>\n",
       "      <th>2</th>\n",
       "      <td>1949</td>\n",
       "      <td>March</td>\n",
       "      <td>132</td>\n",
       "    </tr>\n",
       "    <tr>\n",
       "      <th>3</th>\n",
       "      <td>1949</td>\n",
       "      <td>April</td>\n",
       "      <td>129</td>\n",
       "    </tr>\n",
       "    <tr>\n",
       "      <th>4</th>\n",
       "      <td>1949</td>\n",
       "      <td>May</td>\n",
       "      <td>121</td>\n",
       "    </tr>\n",
       "    <tr>\n",
       "      <th>5</th>\n",
       "      <td>1949</td>\n",
       "      <td>June</td>\n",
       "      <td>135</td>\n",
       "    </tr>\n",
       "    <tr>\n",
       "      <th>6</th>\n",
       "      <td>1949</td>\n",
       "      <td>July</td>\n",
       "      <td>148</td>\n",
       "    </tr>\n",
       "    <tr>\n",
       "      <th>7</th>\n",
       "      <td>1949</td>\n",
       "      <td>August</td>\n",
       "      <td>148</td>\n",
       "    </tr>\n",
       "    <tr>\n",
       "      <th>8</th>\n",
       "      <td>1949</td>\n",
       "      <td>September</td>\n",
       "      <td>136</td>\n",
       "    </tr>\n",
       "    <tr>\n",
       "      <th>9</th>\n",
       "      <td>1949</td>\n",
       "      <td>October</td>\n",
       "      <td>119</td>\n",
       "    </tr>\n",
       "    <tr>\n",
       "      <th>10</th>\n",
       "      <td>1949</td>\n",
       "      <td>November</td>\n",
       "      <td>104</td>\n",
       "    </tr>\n",
       "    <tr>\n",
       "      <th>11</th>\n",
       "      <td>1949</td>\n",
       "      <td>December</td>\n",
       "      <td>118</td>\n",
       "    </tr>\n",
       "    <tr>\n",
       "      <th>12</th>\n",
       "      <td>1950</td>\n",
       "      <td>January</td>\n",
       "      <td>115</td>\n",
       "    </tr>\n",
       "    <tr>\n",
       "      <th>13</th>\n",
       "      <td>1950</td>\n",
       "      <td>February</td>\n",
       "      <td>126</td>\n",
       "    </tr>\n",
       "    <tr>\n",
       "      <th>14</th>\n",
       "      <td>1950</td>\n",
       "      <td>March</td>\n",
       "      <td>141</td>\n",
       "    </tr>\n",
       "    <tr>\n",
       "      <th>15</th>\n",
       "      <td>1950</td>\n",
       "      <td>April</td>\n",
       "      <td>135</td>\n",
       "    </tr>\n",
       "    <tr>\n",
       "      <th>16</th>\n",
       "      <td>1950</td>\n",
       "      <td>May</td>\n",
       "      <td>125</td>\n",
       "    </tr>\n",
       "    <tr>\n",
       "      <th>17</th>\n",
       "      <td>1950</td>\n",
       "      <td>June</td>\n",
       "      <td>149</td>\n",
       "    </tr>\n",
       "    <tr>\n",
       "      <th>18</th>\n",
       "      <td>1950</td>\n",
       "      <td>July</td>\n",
       "      <td>170</td>\n",
       "    </tr>\n",
       "    <tr>\n",
       "      <th>19</th>\n",
       "      <td>1950</td>\n",
       "      <td>August</td>\n",
       "      <td>170</td>\n",
       "    </tr>\n",
       "    <tr>\n",
       "      <th>20</th>\n",
       "      <td>1950</td>\n",
       "      <td>September</td>\n",
       "      <td>158</td>\n",
       "    </tr>\n",
       "    <tr>\n",
       "      <th>21</th>\n",
       "      <td>1950</td>\n",
       "      <td>October</td>\n",
       "      <td>133</td>\n",
       "    </tr>\n",
       "    <tr>\n",
       "      <th>22</th>\n",
       "      <td>1950</td>\n",
       "      <td>November</td>\n",
       "      <td>114</td>\n",
       "    </tr>\n",
       "    <tr>\n",
       "      <th>23</th>\n",
       "      <td>1950</td>\n",
       "      <td>December</td>\n",
       "      <td>140</td>\n",
       "    </tr>\n",
       "    <tr>\n",
       "      <th>24</th>\n",
       "      <td>1951</td>\n",
       "      <td>January</td>\n",
       "      <td>145</td>\n",
       "    </tr>\n",
       "    <tr>\n",
       "      <th>25</th>\n",
       "      <td>1951</td>\n",
       "      <td>February</td>\n",
       "      <td>150</td>\n",
       "    </tr>\n",
       "    <tr>\n",
       "      <th>26</th>\n",
       "      <td>1951</td>\n",
       "      <td>March</td>\n",
       "      <td>178</td>\n",
       "    </tr>\n",
       "    <tr>\n",
       "      <th>27</th>\n",
       "      <td>1951</td>\n",
       "      <td>April</td>\n",
       "      <td>163</td>\n",
       "    </tr>\n",
       "    <tr>\n",
       "      <th>28</th>\n",
       "      <td>1951</td>\n",
       "      <td>May</td>\n",
       "      <td>172</td>\n",
       "    </tr>\n",
       "    <tr>\n",
       "      <th>29</th>\n",
       "      <td>1951</td>\n",
       "      <td>June</td>\n",
       "      <td>178</td>\n",
       "    </tr>\n",
       "    <tr>\n",
       "      <th>...</th>\n",
       "      <td>...</td>\n",
       "      <td>...</td>\n",
       "      <td>...</td>\n",
       "    </tr>\n",
       "    <tr>\n",
       "      <th>114</th>\n",
       "      <td>1958</td>\n",
       "      <td>July</td>\n",
       "      <td>491</td>\n",
       "    </tr>\n",
       "    <tr>\n",
       "      <th>115</th>\n",
       "      <td>1958</td>\n",
       "      <td>August</td>\n",
       "      <td>505</td>\n",
       "    </tr>\n",
       "    <tr>\n",
       "      <th>116</th>\n",
       "      <td>1958</td>\n",
       "      <td>September</td>\n",
       "      <td>404</td>\n",
       "    </tr>\n",
       "    <tr>\n",
       "      <th>117</th>\n",
       "      <td>1958</td>\n",
       "      <td>October</td>\n",
       "      <td>359</td>\n",
       "    </tr>\n",
       "    <tr>\n",
       "      <th>118</th>\n",
       "      <td>1958</td>\n",
       "      <td>November</td>\n",
       "      <td>310</td>\n",
       "    </tr>\n",
       "    <tr>\n",
       "      <th>119</th>\n",
       "      <td>1958</td>\n",
       "      <td>December</td>\n",
       "      <td>337</td>\n",
       "    </tr>\n",
       "    <tr>\n",
       "      <th>120</th>\n",
       "      <td>1959</td>\n",
       "      <td>January</td>\n",
       "      <td>360</td>\n",
       "    </tr>\n",
       "    <tr>\n",
       "      <th>121</th>\n",
       "      <td>1959</td>\n",
       "      <td>February</td>\n",
       "      <td>342</td>\n",
       "    </tr>\n",
       "    <tr>\n",
       "      <th>122</th>\n",
       "      <td>1959</td>\n",
       "      <td>March</td>\n",
       "      <td>406</td>\n",
       "    </tr>\n",
       "    <tr>\n",
       "      <th>123</th>\n",
       "      <td>1959</td>\n",
       "      <td>April</td>\n",
       "      <td>396</td>\n",
       "    </tr>\n",
       "    <tr>\n",
       "      <th>124</th>\n",
       "      <td>1959</td>\n",
       "      <td>May</td>\n",
       "      <td>420</td>\n",
       "    </tr>\n",
       "    <tr>\n",
       "      <th>125</th>\n",
       "      <td>1959</td>\n",
       "      <td>June</td>\n",
       "      <td>472</td>\n",
       "    </tr>\n",
       "    <tr>\n",
       "      <th>126</th>\n",
       "      <td>1959</td>\n",
       "      <td>July</td>\n",
       "      <td>548</td>\n",
       "    </tr>\n",
       "    <tr>\n",
       "      <th>127</th>\n",
       "      <td>1959</td>\n",
       "      <td>August</td>\n",
       "      <td>559</td>\n",
       "    </tr>\n",
       "    <tr>\n",
       "      <th>128</th>\n",
       "      <td>1959</td>\n",
       "      <td>September</td>\n",
       "      <td>463</td>\n",
       "    </tr>\n",
       "    <tr>\n",
       "      <th>129</th>\n",
       "      <td>1959</td>\n",
       "      <td>October</td>\n",
       "      <td>407</td>\n",
       "    </tr>\n",
       "    <tr>\n",
       "      <th>130</th>\n",
       "      <td>1959</td>\n",
       "      <td>November</td>\n",
       "      <td>362</td>\n",
       "    </tr>\n",
       "    <tr>\n",
       "      <th>131</th>\n",
       "      <td>1959</td>\n",
       "      <td>December</td>\n",
       "      <td>405</td>\n",
       "    </tr>\n",
       "    <tr>\n",
       "      <th>132</th>\n",
       "      <td>1960</td>\n",
       "      <td>January</td>\n",
       "      <td>417</td>\n",
       "    </tr>\n",
       "    <tr>\n",
       "      <th>133</th>\n",
       "      <td>1960</td>\n",
       "      <td>February</td>\n",
       "      <td>391</td>\n",
       "    </tr>\n",
       "    <tr>\n",
       "      <th>134</th>\n",
       "      <td>1960</td>\n",
       "      <td>March</td>\n",
       "      <td>419</td>\n",
       "    </tr>\n",
       "    <tr>\n",
       "      <th>135</th>\n",
       "      <td>1960</td>\n",
       "      <td>April</td>\n",
       "      <td>461</td>\n",
       "    </tr>\n",
       "    <tr>\n",
       "      <th>136</th>\n",
       "      <td>1960</td>\n",
       "      <td>May</td>\n",
       "      <td>472</td>\n",
       "    </tr>\n",
       "    <tr>\n",
       "      <th>137</th>\n",
       "      <td>1960</td>\n",
       "      <td>June</td>\n",
       "      <td>535</td>\n",
       "    </tr>\n",
       "    <tr>\n",
       "      <th>138</th>\n",
       "      <td>1960</td>\n",
       "      <td>July</td>\n",
       "      <td>622</td>\n",
       "    </tr>\n",
       "    <tr>\n",
       "      <th>139</th>\n",
       "      <td>1960</td>\n",
       "      <td>August</td>\n",
       "      <td>606</td>\n",
       "    </tr>\n",
       "    <tr>\n",
       "      <th>140</th>\n",
       "      <td>1960</td>\n",
       "      <td>September</td>\n",
       "      <td>508</td>\n",
       "    </tr>\n",
       "    <tr>\n",
       "      <th>141</th>\n",
       "      <td>1960</td>\n",
       "      <td>October</td>\n",
       "      <td>461</td>\n",
       "    </tr>\n",
       "    <tr>\n",
       "      <th>142</th>\n",
       "      <td>1960</td>\n",
       "      <td>November</td>\n",
       "      <td>390</td>\n",
       "    </tr>\n",
       "    <tr>\n",
       "      <th>143</th>\n",
       "      <td>1960</td>\n",
       "      <td>December</td>\n",
       "      <td>432</td>\n",
       "    </tr>\n",
       "  </tbody>\n",
       "</table>\n",
       "<p>144 rows × 3 columns</p>\n",
       "</div>"
      ],
      "text/plain": [
       "     year      month  passengers\n",
       "0    1949    January         112\n",
       "1    1949   February         118\n",
       "2    1949      March         132\n",
       "3    1949      April         129\n",
       "4    1949        May         121\n",
       "5    1949       June         135\n",
       "6    1949       July         148\n",
       "7    1949     August         148\n",
       "8    1949  September         136\n",
       "9    1949    October         119\n",
       "10   1949   November         104\n",
       "11   1949   December         118\n",
       "12   1950    January         115\n",
       "13   1950   February         126\n",
       "14   1950      March         141\n",
       "15   1950      April         135\n",
       "16   1950        May         125\n",
       "17   1950       June         149\n",
       "18   1950       July         170\n",
       "19   1950     August         170\n",
       "20   1950  September         158\n",
       "21   1950    October         133\n",
       "22   1950   November         114\n",
       "23   1950   December         140\n",
       "24   1951    January         145\n",
       "25   1951   February         150\n",
       "26   1951      March         178\n",
       "27   1951      April         163\n",
       "28   1951        May         172\n",
       "29   1951       June         178\n",
       "..    ...        ...         ...\n",
       "114  1958       July         491\n",
       "115  1958     August         505\n",
       "116  1958  September         404\n",
       "117  1958    October         359\n",
       "118  1958   November         310\n",
       "119  1958   December         337\n",
       "120  1959    January         360\n",
       "121  1959   February         342\n",
       "122  1959      March         406\n",
       "123  1959      April         396\n",
       "124  1959        May         420\n",
       "125  1959       June         472\n",
       "126  1959       July         548\n",
       "127  1959     August         559\n",
       "128  1959  September         463\n",
       "129  1959    October         407\n",
       "130  1959   November         362\n",
       "131  1959   December         405\n",
       "132  1960    January         417\n",
       "133  1960   February         391\n",
       "134  1960      March         419\n",
       "135  1960      April         461\n",
       "136  1960        May         472\n",
       "137  1960       June         535\n",
       "138  1960       July         622\n",
       "139  1960     August         606\n",
       "140  1960  September         508\n",
       "141  1960    October         461\n",
       "142  1960   November         390\n",
       "143  1960   December         432\n",
       "\n",
       "[144 rows x 3 columns]"
      ]
     },
     "execution_count": 39,
     "metadata": {},
     "output_type": "execute_result"
    }
   ],
   "source": [
    "flights=sns.load_dataset('flights')\n",
    "type(flights)\n",
    "flight=flights.pivot('year','month','passengers')\n",
    "sns.heatmap(flight)\n",
    "# plt.show()\n",
    "flights"
   ]
  },
  {
   "cell_type": "code",
   "execution_count": 29,
   "metadata": {},
   "outputs": [
    {
     "name": "stdout",
     "output_type": "stream",
     "text": [
      "   total_bill   tip     sex smoker  day    time  size\n",
      "0       16.99  1.01  Female     No  Sun  Dinner     2\n",
      "1       10.34  1.66    Male     No  Sun  Dinner     3\n",
      "2       21.01  3.50    Male     No  Sun  Dinner     3\n",
      "3       23.68  3.31    Male     No  Sun  Dinner     2\n",
      "4       24.59  3.61  Female     No  Sun  Dinner     4\n"
     ]
    },
    {
     "data": {
      "image/png": "[encoded data removed]",
      "text/plain": [
       "<matplotlib.figure.Figure at 0x1a16ba3d68>"
      ]
     },
     "metadata": {},
     "output_type": "display_data"
    },
    {
     "data": {
      "image/png": "[encoded data removed]",
      "text/plain": [
       "<matplotlib.figure.Figure at 0x1a166f7978>"
      ]
     },
     "metadata": {},
     "output_type": "display_data"
    }
   ],
   "source": [
    "tips=sns.load_dataset('tips')\n",
    "print(tips.head())\n",
    "sns.jointplot(x='total_bill',y='tip',data=tips,kind='kde')\n",
    "sns.jointplot(x='total_bill',y='size',data=tips,kind='hex')\n",
    "plt.show()"
   ]
  },
  {
   "cell_type": "code",
   "execution_count": 31,
   "metadata": {},
   "outputs": [
    {
     "data": {
      "text/plain": [
       "<matplotlib.figure.Figure at 0x1a15ddd4e0>"
      ]
     },
     "metadata": {},
     "output_type": "display_data"
    },
    {
     "data": {
      "image/png": "[encoded data removed]",
      "text/plain": [
       "<matplotlib.figure.Figure at 0x1a15b7c4a8>"
      ]
     },
     "metadata": {},
     "output_type": "display_data"
    }
   ],
   "source": [
    "iris=sns.load_dataset('iris')\n",
    "sns.pairplot(iris)\n",
    "plt.show()"
   ]
  },
  {
   "cell_type": "code",
   "execution_count": null,
   "metadata": {
    "collapsed": true
   },
   "outputs": [],
   "source": []
  },
  {
   "cell_type": "code",
   "execution_count": null,
   "metadata": {
    "collapsed": true
   },
   "outputs": [],
   "source": []
  }
 ],
 "metadata": {
  "kernelspec": {
   "display_name": "Python 3",
   "language": "python",
   "name": "python3"
  },
  "language_info": {
   "codemirror_mode": {
    "name": "ipython",
    "version": 3
   },
   "file_extension": ".py",
   "mimetype": "text/x-python",
   "name": "python",
   "nbconvert_exporter": "python",
   "pygments_lexer": "ipython3",
   "version": "3.6.3"
  }
 },
 "nbformat": 4,
 "nbformat_minor": 2
}
